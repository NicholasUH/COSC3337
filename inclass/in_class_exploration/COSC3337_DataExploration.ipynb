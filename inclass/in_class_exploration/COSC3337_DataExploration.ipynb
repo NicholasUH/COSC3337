{
 "cells": [
  {
   "cell_type": "code",
   "execution_count": null,
   "id": "4cedd185",
   "metadata": {},
   "outputs": [],
   "source": [
    "### Predicting why emploees are leaving the company , and learn to predict who will leave the company\n",
    "\n",
    "# Employee Analysis\n",
    "# Data Laoding and understanding feature\n",
    "# Exploratory data analysis and Data visualization\n",
    "# Cluster Analysis\n",
    "# Building prediction model using Gradient Boosting Tree\n",
    "# Evaluating model performance\n",
    "# Conclusion"
   ]
  },
  {
   "cell_type": "code",
   "execution_count": null,
   "id": "b7fd5798",
   "metadata": {},
   "outputs": [],
   "source": [
    "## Exploratory Analysis\n",
    "\n",
    "# summarize characteristics of data such as pattern, trends, outliers,\n",
    "# and hypothesis testing using #import mu=odles, load files\n",
    "\n",
    "import pandas  # for dataframes\n",
    "import matplotlib.pyplot as plt # for plotting graphs\n",
    "import seaborn as sns # for plotting graphs\n",
    "# matplotlib inline descriptive statistics and visualization.\n",
    "data=pandas.read_csv('HR_comma_sep.csv')\n",
    "data.head()\n",
    "\n"
   ]
  },
  {
   "cell_type": "code",
   "execution_count": null,
   "id": "d661bd2a",
   "metadata": {},
   "outputs": [],
   "source": [
    "data.tail()"
   ]
  },
  {
   "cell_type": "code",
   "execution_count": null,
   "id": "3339cebb",
   "metadata": {},
   "outputs": [],
   "source": [
    "# Attributes names and datatypes using info()\n",
    "data.info()\n"
   ]
  },
  {
   "cell_type": "code",
   "execution_count": null,
   "id": "64b5d265",
   "metadata": {},
   "outputs": [],
   "source": [
    "\"\"\"\n",
    "This dataset has 14,999 samples, and 10 attributes(6 integer, 2 float, and 2 objects).\n",
    "No variable column has null/missing values.\n",
    "\"\"\"\n",
    "\n",
    "col_names = data.columns.tolist()\n",
    "print(\"Column names:\")\n",
    "print(col_names)\n",
    "print(\"\\nSample data:\")\n",
    "data.head()\n"
   ]
  },
  {
   "cell_type": "code",
   "execution_count": null,
   "id": "0be15b91",
   "metadata": {},
   "outputs": [],
   "source": [
    "#Rename column name from “sales” to “department”\n",
    "hr = data\n",
    "hr=hr.rename(columns = {'sales':'department'})\n"
   ]
  },
  {
   "cell_type": "code",
   "execution_count": null,
   "id": "dbf2d1d6",
   "metadata": {},
   "outputs": [],
   "source": [
    "#Print the types\n",
    "hr.dtypes\n"
   ]
  },
  {
   "cell_type": "code",
   "execution_count": null,
   "id": "e6071f97",
   "metadata": {},
   "outputs": [],
   "source": [
    "#data is pretty clean, no missing values?\n",
    "hr.isnull().any()\n"
   ]
  },
  {
   "cell_type": "code",
   "execution_count": null,
   "id": "4e0932f1",
   "metadata": {},
   "outputs": [],
   "source": [
    "#Number of records and features\n",
    "hr.shape\n",
    "hr['department'].unique()\n"
   ]
  },
  {
   "cell_type": "code",
   "execution_count": null,
   "id": "faed9445",
   "metadata": {},
   "outputs": [],
   "source": [
    "#combine “technical”, “support” and “IT” these three together and call them “technical”\n",
    "import numpy as np\n",
    "hr['department']=np.where(hr['department'] =='support', 'technical', hr['department'])\n",
    "hr['department']=np.where(hr['department'] =='IT', 'technical', hr['department'])"
   ]
  },
  {
   "cell_type": "code",
   "execution_count": null,
   "id": "21debd6f",
   "metadata": {},
   "outputs": [],
   "source": [
    "# Data Insights\n",
    "\n",
    "left = data.groupby('left')\n",
    "left.mean()\n",
    "hr['left'].value_counts()"
   ]
  },
  {
   "cell_type": "code",
   "execution_count": null,
   "id": "11c33ecd",
   "metadata": {},
   "outputs": [],
   "source": [
    "#summary statistics\n",
    "data.describe()"
   ]
  },
  {
   "cell_type": "code",
   "execution_count": null,
   "id": "f3e80409",
   "metadata": {},
   "outputs": [],
   "source": [
    "# data visualization\n",
    "\n",
    "import pandas as pd\n",
    "%matplotlib inline                   \n",
    "#plot a bar graph using Matplotlib \n",
    "import matplotlib.pyplot as plt\n",
    "pd.crosstab(hr.department,hr.left).plot(kind='bar')\n",
    "plt.title('Turnover Frequency for Department')\n",
    "plt.xlabel('Department')\n",
    "plt.ylabel('Frequency of Turnover')\n",
    "plt.savefig('department_bar_chart')"
   ]
  },
  {
   "cell_type": "code",
   "execution_count": null,
   "id": "4bb1d545",
   "metadata": {},
   "outputs": [],
   "source": [
    "table=pd.crosstab(hr.salary, hr.left)\n",
    "table.div(table.sum(1).astype(float), axis=0).plot(kind='bar', stacked=True)\n",
    "plt.title('Stacked Bar Chart of Salary Level vs Turnover')\n",
    "plt.xlabel('Salary Level')\n",
    "plt.ylabel('Proportion of Employees')\n",
    "plt.savefig('salary_bar_chart')\n"
   ]
  },
  {
   "cell_type": "code",
   "execution_count": null,
   "id": "672cbb92",
   "metadata": {},
   "outputs": [],
   "source": [
    "left_count=data.groupby('left').count()\n",
    "plt.bar(left_count.index.values, left_count['satisfaction_level'])\n",
    "plt.xlabel('Employees Left Company')\n",
    "plt.ylabel('Number of Employees')\n",
    "plt.show()\n",
    "\n",
    "data.left.value_counts()\n",
    "\n"
   ]
  },
  {
   "cell_type": "code",
   "execution_count": null,
   "id": "f17acd97",
   "metadata": {},
   "outputs": [],
   "source": [
    "num_projects=data.groupby('number_project').count()\n",
    "plt.bar(num_projects.index.values, num_projects['satisfaction_level'])\n",
    "plt.xlabel('Number of Projects')\n",
    "plt.ylabel('Number of Employees')\n",
    "plt.show()\n"
   ]
  },
  {
   "cell_type": "code",
   "execution_count": null,
   "id": "3362817f",
   "metadata": {},
   "outputs": [],
   "source": [
    "time_spent=data.groupby('time_spend_company').count()\n",
    "plt.bar(time_spent.index.values, time_spent['satisfaction_level'])\n",
    "plt.xlabel('Number of Years Spend in Company')\n",
    "plt.ylabel('Number of Employees')\n",
    "plt.show()\n"
   ]
  },
  {
   "cell_type": "code",
   "execution_count": null,
   "id": "e32c258e",
   "metadata": {},
   "outputs": [],
   "source": [
    "num_bins = 10\n",
    "hr.hist(bins=num_bins, figsize=(20,15))\n",
    "plt.savefig(\"hr_histogram_plots\")\n",
    "plt.show()\n"
   ]
  },
  {
   "cell_type": "code",
   "execution_count": null,
   "id": "65bc6ce2",
   "metadata": {},
   "outputs": [],
   "source": [
    "# plots using seaborn\n",
    "features=['number_project','time_spend_company','Work_accident','left', 'promotion_last_5years', 'department','salary']\n",
    "fig=plt.subplots(figsize=(10,15))\n",
    "for i, j in enumerate(features):\n",
    "    plt.subplot(4, 2, i+1)\n",
    "    plt.subplots_adjust(hspace = 1.0)\n",
    "    sns.countplot(x=j,data = hr)\n",
    "    plt.xticks(rotation=90)\n",
    "    plt.title(\"No. of employee\")\n"
   ]
  },
  {
   "cell_type": "code",
   "execution_count": null,
   "id": "8aaf6b41",
   "metadata": {},
   "outputs": [],
   "source": [
    "fig=plt.subplots(figsize=(10,15))\n",
    "for i, j in enumerate(features):\n",
    "    plt.subplot(4, 2, i+1)\n",
    "    plt.subplots_adjust(hspace = 1.0)\n",
    "    sns.countplot(x=j,data = hr, hue='left')\n",
    "    plt.xticks(rotation=90)\n",
    "    plt.title(\"No. of employee\")\n"
   ]
  },
  {
   "cell_type": "markdown",
   "id": "13a8957f",
   "metadata": {},
   "source": [
    "Data Analysis and Visualization Summary\n",
    "\n",
    "Promotions: Employees are far more likely to quit their job if they haven't received a promotion in the last 5 years.\n",
    "\n",
    "Time with Company: Here, The three-year mark looks like a time to be a crucial point in an employee's career. Most of them quit their job around the three-year mark. Another important point is 6-years point, where the employee is very unlikely to leave.\n",
    "\n",
    "Number Of Projects: Employee engagement is another critical factor to influence the employee to leave the company. Employees with 3-5 projects are less likely to leave the company. The employee with less and more number of projects are likely to leave.\n",
    "\n",
    "Salary: Most of the employees that quit among the mid or low salary groups.\n"
   ]
  },
  {
   "cell_type": "code",
   "execution_count": null,
   "id": "32dbf6dc",
   "metadata": {},
   "outputs": [],
   "source": [
    "# Cluster Analysis: based on satisfaction and performance\n",
    "\n",
    "#import module\n",
    "from sklearn.cluster import KMeans\n",
    "# Filter data\n",
    "left_emp =  data[['satisfaction_level', 'last_evaluation']][data.left == 1]\n",
    "# Create groups using K-means clustering.\n",
    "kmeans = KMeans(n_clusters = 3, random_state = 0).fit(left_emp)\n",
    "# Add new column \"label\" annd assign cluster labels.\n",
    "left_emp['label'] = kmeans.labels_\n",
    "# Draw scatter plot\n",
    "plt.scatter(left_emp['satisfaction_level'], left_emp['last_evaluation'], c=left_emp['label'],cmap='Accent')\n",
    "plt.xlabel('Satisfaction Level')\n",
    "plt.ylabel('Last Evaluation')\n",
    "plt.title('3 Clusters of employees who left')\n",
    "plt.show()\n"
   ]
  },
  {
   "cell_type": "markdown",
   "id": "edb305ff",
   "metadata": {},
   "source": [
    "\n",
    "High Satisfaction and High Evaluation(Shaded by green color in the graph). Winners.\n",
    "\n",
    "Low Satisfaction and High Evaluation(Shaded by blue color), Frustrated.\n",
    "\n",
    "Moderate Satisfaction and moderate Evaluation (Shaded by grey color in the graph), 'Bad match'.\n"
   ]
  },
  {
   "cell_type": "code",
   "execution_count": null,
   "id": "3e930f3a",
   "metadata": {},
   "outputs": [],
   "source": [
    "#Label encoding of categorical using sklearn\n",
    "# Import LabelEncoder\n",
    "from sklearn import preprocessing\n",
    "#creating labelEncoder\n",
    "le = preprocessing.LabelEncoder()\n",
    "# Converting string labels into numbers.\n",
    "hr['salary']=le.fit_transform(hr['salary'])\n",
    "hr['department']=le.fit_transform(hr['department'])\n",
    "\n"
   ]
  },
  {
   "cell_type": "code",
   "execution_count": null,
   "id": "b8f1c2d8",
   "metadata": {},
   "outputs": [],
   "source": [
    "# Creating Dummy Variables for Categorical Varibles\n",
    "\n",
    "cat_vars=['department','salary']\n",
    "for var in cat_vars:\n",
    "    cat_list='var'+'_'+var\n",
    "    cat_list = pd.get_dummies(hr[var], prefix=var)\n",
    "    hr1=hr.join(cat_list)\n",
    "    hr=hr1\n",
    "\n",
    "hr.drop(hr.columns[[8, 9]], axis=1, inplace=True)\n",
    "hr.columns.values\n",
    "\n",
    "hr_vars=hr.columns.values.tolist()\n",
    "y=['left']\n",
    "X=[i for i in hr_vars if i not in y]\n"
   ]
  },
  {
   "cell_type": "code",
   "execution_count": null,
   "id": "fa94bb4e",
   "metadata": {},
   "outputs": [],
   "source": [
    "y"
   ]
  },
  {
   "cell_type": "code",
   "execution_count": null,
   "id": "29a6b65c",
   "metadata": {},
   "outputs": [],
   "source": [
    "#Spliting data into Feature and\n",
    "\n",
    "X=hr.drop(['left'], axis=1)\n",
    "y=hr['left']\n",
    "# Import train_test_split function\n",
    "from sklearn.model_selection import train_test_split\n",
    "\n",
    "# Split dataset into training set and test set\n",
    "# 70% training and 30% test\n",
    "\n",
    "X_train, X_test, y_train, y_test = train_test_split(X, y, test_size=0.3, random_state=42)\n",
    "\n"
   ]
  },
  {
   "cell_type": "code",
   "execution_count": null,
   "id": "644636f0",
   "metadata": {},
   "outputs": [],
   "source": [
    "print( X_train.shape, y_train.shape)\n",
    "print (X_test.shape, y_test.shape)\n"
   ]
  },
  {
   "cell_type": "code",
   "execution_count": null,
   "id": "0bdb071d",
   "metadata": {},
   "outputs": [],
   "source": [
    "# fit a model\n",
    "from sklearn import datasets, linear_model\n",
    "lm = linear_model.LinearRegression()\n",
    "model = lm.fit(X_train, y_train)\n",
    "predictions = lm.predict(X_test)\n",
    "\n",
    "#Print the first 5 predictions\n",
    "predictions[0:5]\n"
   ]
  },
  {
   "cell_type": "code",
   "execution_count": null,
   "id": "86eb2133",
   "metadata": {},
   "outputs": [],
   "source": [
    "#plot the model\n",
    "\n",
    "## the line/model\n",
    "from matplotlib import pyplot as plt\n",
    "plt.scatter(y_test, predictions)\n",
    "plt.xlabel(\"True Values\")\n",
    "plt.ylabel(\"Predictions\")\n",
    "plt.show()\n"
   ]
  },
  {
   "cell_type": "code",
   "execution_count": null,
   "id": "f5117b7d",
   "metadata": {},
   "outputs": [],
   "source": [
    "print(\"Score:\", model.score(X_test, y_test))\n"
   ]
  },
  {
   "cell_type": "code",
   "execution_count": null,
   "id": "f3d5f9f6",
   "metadata": {},
   "outputs": [],
   "source": [
    "# K-folds Cross Validation\n",
    "\n",
    "from sklearn.model_selection import KFold # import KFold\n",
    "X = np.array([[1, 2], [3, 4], [1, 2], [3, 4]]) # create an array\n",
    "y = np.array([1, 2, 3, 4]) # Create another array\n",
    "kf = KFold(n_splits=2) # Define the split - into 2 folds \n",
    "kf.get_n_splits(X) # returns the number of splitting iterations in the cross-validator\n",
    "print(kf) \n",
    "KFold(n_splits=2, random_state=None, shuffle=False)\n"
   ]
  },
  {
   "cell_type": "code",
   "execution_count": null,
   "id": "b8e4a003",
   "metadata": {},
   "outputs": [],
   "source": [
    "for train_index, test_index in kf.split(X):\n",
    " print(\"TRAIN:\", train_index, \"TEST:\", test_index)\n",
    " X_train, X_test = X[train_index], X[test_index]\n",
    " y_train, y_test = y[train_index], y[test_index]\n",
    "\n"
   ]
  },
  {
   "cell_type": "code",
   "execution_count": null,
   "id": "fabc9acb",
   "metadata": {},
   "outputs": [],
   "source": []
  },
  {
   "cell_type": "code",
   "execution_count": null,
   "id": "70ed1044",
   "metadata": {},
   "outputs": [],
   "source": []
  }
 ],
 "metadata": {
  "kernelspec": {
   "display_name": "Python 3 (ipykernel)",
   "language": "python",
   "name": "python3"
  },
  "language_info": {
   "codemirror_mode": {
    "name": "ipython",
    "version": 3
   },
   "file_extension": ".py",
   "mimetype": "text/x-python",
   "name": "python",
   "nbconvert_exporter": "python",
   "pygments_lexer": "ipython3",
   "version": "3.11.5"
  }
 },
 "nbformat": 4,
 "nbformat_minor": 5
}
